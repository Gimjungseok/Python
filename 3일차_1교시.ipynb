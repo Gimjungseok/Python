{
  "nbformat": 4,
  "nbformat_minor": 0,
  "metadata": {
    "colab": {
      "name": "3일차 1교시.ipynb",
      "provenance": [],
      "collapsed_sections": [],
      "toc_visible": true,
      "authorship_tag": "ABX9TyMMkWkd65ZKtC/L9aXwawf6",
      "include_colab_link": true
    },
    "kernelspec": {
      "name": "python3",
      "display_name": "Python 3"
    }
  },
  "cells": [
    {
      "cell_type": "markdown",
      "metadata": {
        "id": "view-in-github",
        "colab_type": "text"
      },
      "source": [
        "<a href=\"https://colab.research.google.com/github/Gimjungseok/Python/blob/master/3%EC%9D%BC%EC%B0%A8_1%EA%B5%90%EC%8B%9C.ipynb\" target=\"_parent\"><img src=\"https://colab.research.google.com/assets/colab-badge.svg\" alt=\"Open In Colab\"/></a>"
      ]
    },
    {
      "cell_type": "markdown",
      "metadata": {
        "id": "gGpbfpeC8H3j",
        "colab_type": "text"
      },
      "source": [
        "Date Type"
      ]
    },
    {
      "cell_type": "markdown",
      "metadata": {
        "id": "7xOu3bYz4DJB",
        "colab_type": "text"
      },
      "source": [
        "**Data Type_Dictionary**\n",
        "# dic = {1:'홍석찬', 2:'최경민', 3:30221}"
      ]
    },
    {
      "cell_type": "code",
      "metadata": {
        "id": "xJtvXbO8439G",
        "colab_type": "code",
        "colab": {}
      },
      "source": [
        " dic = {'멋쟁이':'홍석찬', '핵인싸' : '최경민', 3:30221}"
      ],
      "execution_count": 0,
      "outputs": []
    },
    {
      "cell_type": "code",
      "metadata": {
        "id": "08ULPkoC5k6F",
        "colab_type": "code",
        "colab": {
          "base_uri": "https://localhost:8080/",
          "height": 35
        },
        "outputId": "ab61b3da-fbf0-4819-9d77-f1461b1092b8"
      },
      "source": [
        " dic['멋쟁이'], dic['핵인싸'], dic[3]"
      ],
      "execution_count": 22,
      "outputs": [
        {
          "output_type": "execute_result",
          "data": {
            "text/plain": [
              "('홍석찬', '최경민', 30221)"
            ]
          },
          "metadata": {
            "tags": []
          },
          "execution_count": 22
        }
      ]
    },
    {
      "cell_type": "code",
      "metadata": {
        "id": "3hMLTzEX7HuR",
        "colab_type": "code",
        "colab": {
          "base_uri": "https://localhost:8080/",
          "height": 35
        },
        "outputId": "fe820459-3b99-4e10-d1a7-bbeaa05b2265"
      },
      "source": [
        "dic.get('멋쟁이')"
      ],
      "execution_count": 23,
      "outputs": [
        {
          "output_type": "execute_result",
          "data": {
            "text/plain": [
              "'홍석찬'"
            ]
          },
          "metadata": {
            "tags": []
          },
          "execution_count": 23
        }
      ]
    },
    {
      "cell_type": "code",
      "metadata": {
        "id": "gbHd6BgW7NpR",
        "colab_type": "code",
        "colab": {
          "base_uri": "https://localhost:8080/",
          "height": 35
        },
        "outputId": "684ce49f-ce8b-47f5-e26f-8240323e6cde"
      },
      "source": [
        "dic.values()"
      ],
      "execution_count": 25,
      "outputs": [
        {
          "output_type": "execute_result",
          "data": {
            "text/plain": [
              "dict_values(['홍석찬', '최경민', 30221])"
            ]
          },
          "metadata": {
            "tags": []
          },
          "execution_count": 25
        }
      ]
    },
    {
      "cell_type": "code",
      "metadata": {
        "id": "1GLRvLIA7mQD",
        "colab_type": "code",
        "colab": {
          "base_uri": "https://localhost:8080/",
          "height": 35
        },
        "outputId": "17191378-eb2c-4dcc-cc1e-29a1510af01f"
      },
      "source": [
        "dic.items()"
      ],
      "execution_count": 26,
      "outputs": [
        {
          "output_type": "execute_result",
          "data": {
            "text/plain": [
              "dict_items([('멋쟁이', '홍석찬'), ('핵인싸', '최경민'), (3, 30221)])"
            ]
          },
          "metadata": {
            "tags": []
          },
          "execution_count": 26
        }
      ]
    },
    {
      "cell_type": "code",
      "metadata": {
        "id": "OgGyqz747oFp",
        "colab_type": "code",
        "colab": {
          "base_uri": "https://localhost:8080/",
          "height": 35
        },
        "outputId": "a212bb32-f688-4a27-df2d-d088cde4188e"
      },
      "source": [
        "dic.keys()"
      ],
      "execution_count": 27,
      "outputs": [
        {
          "output_type": "execute_result",
          "data": {
            "text/plain": [
              "dict_keys(['멋쟁이', '핵인싸', 3])"
            ]
          },
          "metadata": {
            "tags": []
          },
          "execution_count": 27
        }
      ]
    },
    {
      "cell_type": "code",
      "metadata": {
        "id": "qkhdvdb57qRx",
        "colab_type": "code",
        "colab": {}
      },
      "source": [
        ""
      ],
      "execution_count": 0,
      "outputs": []
    },
    {
      "cell_type": "code",
      "metadata": {
        "id": "B1NLzrCY52Hj",
        "colab_type": "code",
        "colab": {
          "base_uri": "https://localhost:8080/",
          "height": 35
        },
        "outputId": "4a7b2a6e-5589-4ce0-879a-c2e872a09359"
      },
      "source": [
        "a='인천정보산업고등학교'\n",
        "type(a)"
      ],
      "execution_count": 16,
      "outputs": [
        {
          "output_type": "execute_result",
          "data": {
            "text/plain": [
              "str"
            ]
          },
          "metadata": {
            "tags": []
          },
          "execution_count": 16
        }
      ]
    },
    {
      "cell_type": "code",
      "metadata": {
        "id": "dRCsqiyH6Cca",
        "colab_type": "code",
        "colab": {
          "base_uri": "https://localhost:8080/",
          "height": 35
        },
        "outputId": "1e4bd05a-7b96-4c2d-9e71-53f272afc211"
      },
      "source": [
        "type(dic)"
      ],
      "execution_count": 17,
      "outputs": [
        {
          "output_type": "execute_result",
          "data": {
            "text/plain": [
              "dict"
            ]
          },
          "metadata": {
            "tags": []
          },
          "execution_count": 17
        }
      ]
    },
    {
      "cell_type": "code",
      "metadata": {
        "id": "okJnsUEN6D4d",
        "colab_type": "code",
        "colab": {
          "base_uri": "https://localhost:8080/",
          "height": 35
        },
        "outputId": "9ae4d73d-7be6-4c49-9942-be22c5a1ee0a"
      },
      "source": [
        "b=[1,2,3,4,5]\n",
        "type(b)\n",
        "b[0]=8\n",
        "b"
      ],
      "execution_count": 20,
      "outputs": [
        {
          "output_type": "execute_result",
          "data": {
            "text/plain": [
              "[8, 2, 3, 4, 5]"
            ]
          },
          "metadata": {
            "tags": []
          },
          "execution_count": 20
        }
      ]
    },
    {
      "cell_type": "code",
      "metadata": {
        "id": "IzJriP5z6lLj",
        "colab_type": "code",
        "colab": {
          "base_uri": "https://localhost:8080/",
          "height": 35
        },
        "outputId": "a9ef4e35-8865-4ec9-fb45-bbb153db63c6"
      },
      "source": [
        "c=1,2,3,4,5\n",
        "type(c)"
      ],
      "execution_count": 28,
      "outputs": [
        {
          "output_type": "execute_result",
          "data": {
            "text/plain": [
              "tuple"
            ]
          },
          "metadata": {
            "tags": []
          },
          "execution_count": 28
        }
      ]
    },
    {
      "cell_type": "code",
      "metadata": {
        "id": "IMUTRXe08Ttx",
        "colab_type": "code",
        "colab": {
          "base_uri": "https://localhost:8080/",
          "height": 35
        },
        "outputId": "4b150781-1d8c-4ef7-8bba-d431ec47e8bf"
      },
      "source": [
        "print('*'*100)"
      ],
      "execution_count": 39,
      "outputs": [
        {
          "output_type": "stream",
          "text": [
            "****************************************************************************************************\n"
          ],
          "name": "stdout"
        }
      ]
    },
    {
      "cell_type": "code",
      "metadata": {
        "id": "9zNd5t929Taa",
        "colab_type": "code",
        "colab": {
          "base_uri": "https://localhost:8080/",
          "height": 71
        },
        "outputId": "035187a2-cb5d-4f4a-fab6-b38b47704b12"
      },
      "source": [
        "id = input('id를 입력 >>> ')\n",
        "print(id+'님! 안녕하세요')\n",
        "print(id,'님! 안녕하세요')"
      ],
      "execution_count": 43,
      "outputs": [
        {
          "output_type": "stream",
          "text": [
            "id를 입력 >>> 이잉\n",
            "이잉님! 안녕하세요\n",
            "이잉 님! 안녕하세요\n"
          ],
          "name": "stdout"
        }
      ]
    },
    {
      "cell_type": "code",
      "metadata": {
        "id": "zk5rBHkDFGr_",
        "colab_type": "code",
        "colab": {
          "base_uri": "https://localhost:8080/",
          "height": 53
        },
        "outputId": "4e957d2b-42af-44b1-cc31-5262a71b2b0c"
      },
      "source": [
        "gap = input('당신의 태어난 년도 입력')\n",
        "print('당신의 환갑이 되는 년도는', +int(gap)+60,'입니다')"
      ],
      "execution_count": 61,
      "outputs": [
        {
          "output_type": "stream",
          "text": [
            "당신의 태어난 년도 입력2002\n",
            "당신의 환갑이 되는 년도는 2062 입니다\n"
          ],
          "name": "stdout"
        }
      ]
    },
    {
      "cell_type": "code",
      "metadata": {
        "id": "1RRfwAkUGvYg",
        "colab_type": "code",
        "colab": {
          "base_uri": "https://localhost:8080/",
          "height": 125
        },
        "outputId": "35aa2db3-162f-4172-ba0e-3f0ecc86ffa7"
      },
      "source": [
        "a= input('두 개의 숫자 입력').split()\n",
        "b= int(a[0])\n",
        "c= int(a[1])\n",
        "print('첫번째 숫자',b,'두번째 숫자',c)\n",
        "print(b**c)\n",
        "print(b%c)\n",
        "print(b/c)\n",
        "print(b//c)"
      ],
      "execution_count": 62,
      "outputs": [
        {
          "output_type": "stream",
          "text": [
            "두 개의 숫자 입력5 3\n",
            "첫번째 숫자 5 두번째 숫자 3\n",
            "125\n",
            "2\n",
            "1.6666666666666667\n",
            "1\n"
          ],
          "name": "stdout"
        }
      ]
    }
  ]
}