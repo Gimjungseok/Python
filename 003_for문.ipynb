{
  "nbformat": 4,
  "nbformat_minor": 0,
  "metadata": {
    "colab": {
      "name": "003_for문.ipynb",
      "provenance": [],
      "collapsed_sections": [],
      "authorship_tag": "ABX9TyPxjYNt7c1eb8adss3MNRWX",
      "include_colab_link": true
    },
    "kernelspec": {
      "name": "python3",
      "display_name": "Python 3"
    }
  },
  "cells": [
    {
      "cell_type": "markdown",
      "metadata": {
        "id": "view-in-github",
        "colab_type": "text"
      },
      "source": [
        "<a href=\"https://colab.research.google.com/github/Gimjungseok/Python/blob/master/003_for%EB%AC%B8.ipynb\" target=\"_parent\"><img src=\"https://colab.research.google.com/assets/colab-badge.svg\" alt=\"Open In Colab\"/></a>"
      ]
    },
    {
      "cell_type": "code",
      "metadata": {
        "id": "-hyXtXqCCPqC",
        "colab_type": "code",
        "colab": {
          "base_uri": "https://localhost:8080/",
          "height": 89
        },
        "outputId": "37b3f7bf-2eef-40f0-f8cc-f35b95a087b3"
      },
      "source": [
        "sub = ['국','영','수','정보']\n",
        "for i in range(len(sub)) :\n",
        "  if sub[i] == '수' :\n",
        "    print(i+1,'교시',sub[i], '해당')\n",
        "  else :\n",
        "    print(i+1,'교시',sub[i], '해당없음')"
      ],
      "execution_count": 3,
      "outputs": [
        {
          "output_type": "stream",
          "text": [
            "1 교시 국 해당없음\n",
            "2 교시 영 해당없음\n",
            "3 교시 수 해당\n",
            "4 교시 정보 해당없음\n"
          ],
          "name": "stdout"
        }
      ]
    },
    {
      "cell_type": "code",
      "metadata": {
        "id": "JLzEGM9UMK6k",
        "colab_type": "code",
        "colab": {
          "base_uri": "https://localhost:8080/",
          "height": 89
        },
        "outputId": "30db6046-ba88-4b65-f970-4b6ff2d60460"
      },
      "source": [
        "for i, val in enumerate(sub) :\n",
        "  print(i+1, val)"
      ],
      "execution_count": 5,
      "outputs": [
        {
          "output_type": "stream",
          "text": [
            "1 국\n",
            "2 영\n",
            "3 수\n",
            "4 정보\n"
          ],
          "name": "stdout"
        }
      ]
    },
    {
      "cell_type": "code",
      "metadata": {
        "id": "LTyG_kzOMu81",
        "colab_type": "code",
        "colab": {
          "base_uri": "https://localhost:8080/",
          "height": 197
        },
        "outputId": "4f8aa294-65be-4b52-9eb6-2fc987b37ad4"
      },
      "source": [
        "for i in range(1,11) :\n",
        "  if i % 2==0 :\n",
        "    print('파이썬')\n",
        "  else :\n",
        "    print('야~ 나도 파이썬 할 수 있어')"
      ],
      "execution_count": 6,
      "outputs": [
        {
          "output_type": "stream",
          "text": [
            "야~ 나도 파이썬 할 수 있어\n",
            "파이썬\n",
            "야~ 나도 파이썬 할 수 있어\n",
            "파이썬\n",
            "야~ 나도 파이썬 할 수 있어\n",
            "파이썬\n",
            "야~ 나도 파이썬 할 수 있어\n",
            "파이썬\n",
            "야~ 나도 파이썬 할 수 있어\n",
            "파이썬\n"
          ],
          "name": "stdout"
        }
      ]
    }
  ]
}