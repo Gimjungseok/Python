{
  "nbformat": 4,
  "nbformat_minor": 0,
  "metadata": {
    "colab": {
      "name": "30305 김중석 과제.ipynb",
      "provenance": [],
      "collapsed_sections": [],
      "authorship_tag": "ABX9TyOEmOFYg9yNQFvEf9ZtaNIw",
      "include_colab_link": true
    },
    "kernelspec": {
      "name": "python3",
      "display_name": "Python 3"
    }
  },
  "cells": [
    {
      "cell_type": "markdown",
      "metadata": {
        "id": "view-in-github",
        "colab_type": "text"
      },
      "source": [
        "<a href=\"https://colab.research.google.com/github/Gimjungseok/Python/blob/master/30305_%EA%B9%80%EC%A4%91%EC%84%9D_%EA%B3%BC%EC%A0%9C.ipynb\" target=\"_parent\"><img src=\"https://colab.research.google.com/assets/colab-badge.svg\" alt=\"Open In Colab\"/></a>"
      ]
    },
    {
      "cell_type": "code",
      "metadata": {
        "id": "iuBpGzJhK4K3",
        "colab_type": "code",
        "colab": {
          "base_uri": "https://localhost:8080/",
          "height": 107
        },
        "outputId": "2eed1fcd-1739-4de0-dc33-fb9d53a77d7b"
      },
      "source": [
        "jumsu = [100,75,67,45,80]\n",
        "for i, val in enumerate(jumsu) :\n",
        "  if val >= 60 :\n",
        "    print(\"%d 번 학생은 합격입니다.\"%(i+1))\n",
        "  else : \n",
        "    print(\"%d 번 학생은 불합격입니다.\"%(i+1))"
      ],
      "execution_count": 9,
      "outputs": [
        {
          "output_type": "stream",
          "text": [
            "1 번 학생은 합격입니다.\n",
            "2 번 학생은 합격입니다.\n",
            "3 번 학생은 합격입니다.\n",
            "4 번 학생은 불합격입니다.\n",
            "5 번 학생은 합격입니다.\n"
          ],
          "name": "stdout"
        }
      ]
    },
    {
      "cell_type": "code",
      "metadata": {
        "id": "gzJqx6o7Oyb6",
        "colab_type": "code",
        "colab": {}
      },
      "source": [
        "import pandas as pd\n",
        "covid = [['인천',120,27,5], ['서울',210,301,11], ['경기',120,132,10],['강원',24,21,7],['제주',84,54,3]]\n",
        "\n",
        "df=pd.DataFrame(covid)\n",
        "df.index = [1,2,3,4,5]\n",
        "df.columns = ['지역','병상','확진자','사망자']\n",
        "df"
      ],
      "execution_count": 0,
      "outputs": []
    }
  ]
}